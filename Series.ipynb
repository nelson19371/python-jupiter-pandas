{
 "cells": [
  {
   "cell_type": "code",
   "execution_count": 1,
   "id": "e9bc7391-82da-4cb8-94e9-6ceec8c4b730",
   "metadata": {
    "tags": []
   },
   "outputs": [
    {
     "name": "stdout",
     "output_type": "stream",
     "text": [
      "0      4\n",
      "1      9\n",
      "2      2\n",
      "3      6\n",
      "4     10\n",
      "5    200\n",
      "dtype: int64\n"
     ]
    }
   ],
   "source": [
    "#Importar pandas\n",
    "\n",
    "import pandas as pd\n",
    "#Una serie es una estructura de datos unidimensional que puede contener cualquier tipo de datos.\n",
    "#Creación de una serie\n",
    "\n",
    "naranjas = pd.Series([4,9,2,6,10,200])\n",
    "print(naranjas)"
   ]
  },
  {
   "cell_type": "code",
   "execution_count": 2,
   "id": "6bff6b1c-623f-460e-a559-ba7497435c7c",
   "metadata": {
    "tags": []
   },
   "outputs": [
    {
     "name": "stdout",
     "output_type": "stream",
     "text": [
      "Matematicas     60\n",
      "Fisica         100\n",
      "Quimica         78\n",
      "dtype: int64\n"
     ]
    }
   ],
   "source": [
    "#Series con Diccionarios\n",
    "materias = pd.Series({'Matematicas':60,'Fisica':100, 'Quimica':78})\n",
    "print(materias)\n"
   ]
  },
  {
   "cell_type": "code",
   "execution_count": 3,
   "id": "99b250df-14c9-4c7e-89a0-698d60f6c934",
   "metadata": {},
   "outputs": [
    {
     "data": {
      "text/plain": [
       "dtype('int64')"
      ]
     },
     "execution_count": 3,
     "metadata": {},
     "output_type": "execute_result"
    }
   ],
   "source": [
    "#Propiedades de una serie\n",
    "\n",
    "#.size: Devuekve el número de elementos de la serie\n",
    "#.index: Devuelve una lista con los nombres de las filas del DataFrame\n",
    "#.dtype: Devuelve el tipo de datos de los elementos de la serie\n",
    "\n",
    "numeros = pd.Series([1,2,3,4,5,6,7,8,9])\n",
    "\n",
    "numeros.dtype\n"
   ]
  },
  {
   "cell_type": "code",
   "execution_count": 4,
   "id": "0c0b3018-e782-419f-aede-7a9e88393ef3",
   "metadata": {
    "tags": []
   },
   "outputs": [
    {
     "data": {
      "text/plain": [
       "2    amarillo\n",
       "3       verde\n",
       "dtype: object"
      ]
     },
     "execution_count": 4,
     "metadata": {},
     "output_type": "execute_result"
    }
   ],
   "source": [
    "#Acceder a datos de las series\n",
    "\n",
    "colores = pd.Series(['rojo','azul','amarillo','verde','morado'])\n",
    "\n",
    "colores[2:4]\n",
    "\n"
   ]
  },
  {
   "cell_type": "code",
   "execution_count": 5,
   "id": "7279bbf6-1ee5-49f9-a8e1-8a8361e9d657",
   "metadata": {
    "tags": []
   },
   "outputs": [
    {
     "data": {
      "text/plain": [
       "45"
      ]
     },
     "execution_count": 5,
     "metadata": {},
     "output_type": "execute_result"
    }
   ],
   "source": [
    "# Funciones de series\n",
    "numeros = pd.Series([1,2,3,4,5,6,7,8,9])\n",
    "# Suma de los elementos\n",
    "numeros.sum()\n",
    "#Mostrar el elemento mayor\n",
    "numeros.max()\n",
    "#Mostrar el elemento menor\n",
    "numeros.min()\n",
    "#Encontrar un numero con la desviacion estandar\n",
    "numeros.std()\n",
    "#Describir contenido de la serie\n",
    "numeros.describe()\n",
    "\n",
    "#Mostrar valores de una serie mediante condicionales\n",
    "serie = pd.Series({'Matematicas':8,'Economia':6,'Programacion':10,'Fisica':5})\n",
    "\n",
    "print(serie[serie > 6])\n",
    "\n",
    "#mostrar datos de forma acendente\n",
    "print(serie.sort_values())\n",
    "\n",
    "#mostrar datos de forma decendente\n",
    "print(serie.sort_index(ascending=true))\n",
    "\n",
    "#Valor a escalar\n",
    "data = 5\n",
    "\n",
    "serie = pd.Series(data, index=[0,1,2,3,4,5])\n",
    "\n",
    "#Hacer una serie con un índice definido\n",
    "\n",
    "data_list = ['Messi','Cristiano Ronaldo','Benzema']\n",
    "\n",
    "indices = ['PSG','Manchester united','Real Madrid']\n",
    "\n",
    "futbol = pd.Series(index=indices, data=data_list)\n",
    "\n"
   ]
  }
 ],
 "metadata": {
  "kernelspec": {
   "display_name": "Python 3 (ipykernel)",
   "language": "python",
   "name": "python3"
  },
  "language_info": {
   "codemirror_mode": {
    "name": "ipython",
    "version": 3
   },
   "file_extension": ".py",
   "mimetype": "text/x-python",
   "name": "python",
   "nbconvert_exporter": "python",
   "pygments_lexer": "ipython3",
   "version": "3.11.5"
  }
 },
 "nbformat": 4,
 "nbformat_minor": 5
}
