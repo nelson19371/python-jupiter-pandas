{
 "cells": [
  {
   "cell_type": "code",
   "execution_count": 3,
   "id": "82d4842c-0b86-47bf-abf5-b1a45f2185d6",
   "metadata": {
    "tags": []
   },
   "outputs": [
    {
     "name": "stdout",
     "output_type": "stream",
     "text": [
      "  nombre      CARRERA            CORREO\n",
      "0  Maria    Auditoria   maria@gmail.com\n",
      "1   Jose  Informatica    jose@gmail.com\n",
      "2  David      Derecho   david@gmail.com\n",
      "3   Ivan      Idiomas  ivania@gmail.com\n"
     ]
    }
   ],
   "source": [
    "#DataFrame es la reunion de series\n",
    "import pandas as pd\n",
    "\n",
    "data={'nombre':['Maria','Jose','David','Ivan'],\n",
    "       'CARRERA':['Auditoria','Informatica','Derecho','Idiomas'],\n",
    "       'CORREO': ['maria@gmail.com','jose@gmail.com','david@gmail.com','ivania@gmail.com']\n",
    "     }\n",
    "\n",
    "estudiantes = pd.DataFrame(data)\n",
    "print(estudiantes)\n"
   ]
  },
  {
   "cell_type": "code",
   "execution_count": null,
   "id": "b7d72a2e-48a5-4dcc-83dd-6d7bf6ef6b50",
   "metadata": {},
   "outputs": [],
   "source": []
  }
 ],
 "metadata": {
  "kernelspec": {
   "display_name": "Python 3 (ipykernel)",
   "language": "python",
   "name": "python3"
  },
  "language_info": {
   "codemirror_mode": {
    "name": "ipython",
    "version": 3
   },
   "file_extension": ".py",
   "mimetype": "text/x-python",
   "name": "python",
   "nbconvert_exporter": "python",
   "pygments_lexer": "ipython3",
   "version": "3.11.5"
  }
 },
 "nbformat": 4,
 "nbformat_minor": 5
}
